{
 "cells": [
  {
   "cell_type": "markdown",
   "metadata": {},
   "source": [
    "# Ieva\n",
    "\n",
    "![French bulldog](https://upload.wikimedia.org/wikipedia/commons/thumb/2/2b/900-French-Bulldog-l.jpg/800px-900-French-Bulldog-l.jpg)"
   ]
  },
  {
   "cell_type": "code",
   "execution_count": 8,
   "metadata": {},
   "outputs": [],
   "source": [
    "import matplotlib.pyplot as plt"
   ]
  },
  {
   "cell_type": "code",
   "execution_count": 7,
   "metadata": {},
   "outputs": [
    {
     "name": "stdout",
     "output_type": "stream",
     "text": [
      "Hello Notebooks!\n"
     ]
    }
   ],
   "source": [
    "def Hello():\n",
    "    print(\"Hello Notebooks!\")\n",
    "\n",
    "Hello()"
   ]
  },
  {
   "cell_type": "code",
   "execution_count": 13,
   "metadata": {},
   "outputs": [],
   "source": [
    "# my_variables"
   ]
  },
  {
   "cell_type": "code",
   "execution_count": 14,
   "metadata": {},
   "outputs": [],
   "source": [
    "# FIXME Open and execute the file, get the graph!\n",
    "\n",
    "# with open(\"C:\\Users\\ievaz\\OneDrive\\Documents\\SheGoesTech-projects\\Day14_exercise.py\") as task:\n",
    "#     graph = task.read()\n",
    "\n",
    "# print(graph)"
   ]
  }
 ],
 "metadata": {
  "kernelspec": {
   "display_name": "Python 3.10.7 ('venv': venv)",
   "language": "python",
   "name": "python3"
  },
  "language_info": {
   "codemirror_mode": {
    "name": "ipython",
    "version": 3
   },
   "file_extension": ".py",
   "mimetype": "text/x-python",
   "name": "python",
   "nbconvert_exporter": "python",
   "pygments_lexer": "ipython3",
   "version": "3.10.7"
  },
  "orig_nbformat": 4,
  "vscode": {
   "interpreter": {
    "hash": "1453f595efc6e74422f067953fb1bbbba0d4d00b5ca5101b5037ff3248f22401"
   }
  }
 },
 "nbformat": 4,
 "nbformat_minor": 2
}
