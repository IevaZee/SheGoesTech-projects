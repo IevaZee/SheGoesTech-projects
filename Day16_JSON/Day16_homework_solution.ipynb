{
 "cells": [
  {
   "cell_type": "code",
   "execution_count": 113,
   "metadata": {},
   "outputs": [],
   "source": [
    "# TODO read emojihub.json into a Python data structure\n",
    "# add new key emoji to each dictionary with value of emoji\n",
    "# to do so you will need to extract Unicode numerical value from htmlCode value\n",
    "# save the new data structure to a file called emojihub_with_emoji.json\n",
    "# TIP: remember about ensure_ascii=False and encoding='utf-8'\n",
    "\n",
    "# for those who did not finish the exercise in class\n",
    "# alternative assignment would be to use the classword to find a public API not seen in class\n",
    "# and use requests to get the data and parse it into a Python data structure\n",
    "# then save it to a file\n",
    "\n",
    "# so a single entry should look like this:\n",
    "    # {\n",
    "    #     \"name\": \"pear\",\n",
    "    #     \"category\": \"food and drink\",\n",
    "    #     \"group\": \"food fruit\",\n",
    "    #     \"htmlCode\": [\n",
    "    #         \"&#127824;\"\n",
    "    #     ],\n",
    "    #     \"unicode\": [\n",
    "    #         \"U+1F350\"\n",
    "    #     ],\n",
    "    #     \"emoji\": \"🍐\" \n",
    "    # },\n",
    "    # more fruits would follow"
   ]
  },
  {
   "cell_type": "code",
   "execution_count": 114,
   "metadata": {},
   "outputs": [],
   "source": [
    "import json"
   ]
  },
  {
   "cell_type": "code",
   "execution_count": 115,
   "metadata": {},
   "outputs": [],
   "source": [
    "with open(\"emojihub.json\") as f:\n",
    "    raw_txt = f.read()\n",
    "    fruits = json.loads(raw_txt)"
   ]
  },
  {
   "cell_type": "code",
   "execution_count": 116,
   "metadata": {},
   "outputs": [],
   "source": [
    "for n in fruits:\n",
    "    code = str(n.get('htmlCode'))\n",
    "    code = code.strip(\"['&#\")\n",
    "    code = code.strip(\";']\")\n",
    "    character = chr(int(code))\n",
    "    for key, value in n.items():\n",
    "        new_fruits = {}\n",
    "        new_fruits[\"emoji\"] = character\n",
    "    n.update(new_fruits)"
   ]
  },
  {
   "cell_type": "code",
   "execution_count": 117,
   "metadata": {},
   "outputs": [],
   "source": [
    "with open(\"emojihub_with_emoji.json\", mode=\"w\", encoding=\"utf-8\") as write_file:\n",
    "    json.dump(fruits, write_file, indent=4, ensure_ascii=False)"
   ]
  }
 ],
 "metadata": {
  "kernelspec": {
   "display_name": "Python 3.10.7 ('venv': venv)",
   "language": "python",
   "name": "python3"
  },
  "language_info": {
   "codemirror_mode": {
    "name": "ipython",
    "version": 3
   },
   "file_extension": ".py",
   "mimetype": "text/x-python",
   "name": "python",
   "nbconvert_exporter": "python",
   "pygments_lexer": "ipython3",
   "version": "3.10.7"
  },
  "orig_nbformat": 4,
  "vscode": {
   "interpreter": {
    "hash": "1453f595efc6e74422f067953fb1bbbba0d4d00b5ca5101b5037ff3248f22401"
   }
  }
 },
 "nbformat": 4,
 "nbformat_minor": 2
}
