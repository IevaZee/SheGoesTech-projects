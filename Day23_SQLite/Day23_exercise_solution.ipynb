{
 "cells": [
  {
   "cell_type": "code",
   "execution_count": 1,
   "metadata": {},
   "outputs": [],
   "source": [
    "# TODO: the following 5 functions for CRUD(create, read,update,delete) operations that work with sqlite database called chinook.db\n",
    "\n",
    "# def create_connection(dbpath):\n",
    "#   # can add verbose parameter that prints sqlite version used\n",
    "#   return conn\n",
    "# def create_artist(conn, artist_name):\n",
    "   # use parametrized query !\n",
    "#   # do not have to return anything but can use try: inside this function\n",
    "# def read_artists(conn):  # can add some extra parameters to limit\n",
    "#   return artists  # can return a list of tuples, or you can create a list of artist objects if you want\n",
    "# def update_artist(id, new_name):\n",
    "# def delete_artist(id=None, name=\"\"):\n",
    "#    # provide deletion by id AND/OR name\n",
    "\n",
    "\n",
    "# test it by adding you name to artists table smile\n",
    "\n",
    "# you can use .ipynb or .py file"
   ]
  },
  {
   "cell_type": "code",
   "execution_count": 2,
   "metadata": {},
   "outputs": [],
   "source": [
    "import sqlite3\n",
    "import pandas as pd"
   ]
  },
  {
   "cell_type": "code",
   "execution_count": 3,
   "metadata": {},
   "outputs": [],
   "source": [
    "def create_connection(dbpath):\n",
    "    conn = sqlite3.connect(dbpath)\n",
    "    df = pd.read_sql_query(\"select sqlite_version()\", conn)\n",
    "    print(df)\n",
    "    return conn"
   ]
  },
  {
   "cell_type": "code",
   "execution_count": 4,
   "metadata": {},
   "outputs": [
    {
     "name": "stdout",
     "output_type": "stream",
     "text": [
      "  sqlite_version()\n",
      "0           3.37.2\n"
     ]
    }
   ],
   "source": [
    "conn = create_connection(\"chinook.db\")"
   ]
  },
  {
   "cell_type": "code",
   "execution_count": 26,
   "metadata": {},
   "outputs": [],
   "source": [
    "def create_artist(conn, artist_name):\n",
    "    cur = conn.cursor()\n",
    "    cur.execute(\"INSERT INTO artists (name) VALUES (?)\", (artist_name,))\n",
    "    conn.commit()\n",
    "\n",
    "create_artist(conn, \"Brainstorm\")"
   ]
  },
  {
   "cell_type": "code",
   "execution_count": 27,
   "metadata": {},
   "outputs": [
    {
     "data": {
      "text/plain": [
       "[(282, 'Brainstorm'), (283, 'Brainstorm'), (284, 'Brainstorm_2')]"
      ]
     },
     "execution_count": 27,
     "metadata": {},
     "output_type": "execute_result"
    }
   ],
   "source": [
    "def read_artists(conn):\n",
    "    cur = conn.cursor()\n",
    "    cur.execute(\"SELECT * FROM artists\")\n",
    "    return cur.fetchall()\n",
    "\n",
    "artists_list = read_artists(conn)\n",
    "artists_list[-3:]"
   ]
  },
  {
   "cell_type": "code",
   "execution_count": 16,
   "metadata": {},
   "outputs": [],
   "source": [
    "def update_artist(id, new_name):\n",
    "    cur = conn.cursor()\n",
    "    cur.execute(\"UPDATE artists SET name = ? WHERE ArtistId = ?\", (new_name, id))\n",
    "    conn.commit()\n",
    "\n",
    "update_artist(281, \"Ieva Zarina\")\n"
   ]
  },
  {
   "cell_type": "code",
   "execution_count": 23,
   "metadata": {},
   "outputs": [
    {
     "data": {
      "text/plain": [
       "[(276, 'Valdis Saulespurēns'),\n",
       " (277, 'Jumprava'),\n",
       " (278, 'Jumprava'),\n",
       " (281, 'Ieva Zarina'),\n",
       " (282, 'Brainstorm')]"
      ]
     },
     "execution_count": 23,
     "metadata": {},
     "output_type": "execute_result"
    }
   ],
   "source": [
    "artists_list = read_artists(conn)\n",
    "artists_list[-5:]"
   ]
  },
  {
   "cell_type": "code",
   "execution_count": 41,
   "metadata": {},
   "outputs": [],
   "source": [
    "def delete_artist(id=None, name=\"\"):\n",
    "    cur = conn.cursor()\n",
    "    cur.execute(\"DELETE FROM artists WHERE ArtistId = ? OR name = ?\", (id, name))\n",
    "    conn.commit()\n",
    "\n",
    "delete_artist(283)"
   ]
  },
  {
   "cell_type": "code",
   "execution_count": 42,
   "metadata": {},
   "outputs": [
    {
     "data": {
      "text/plain": [
       "[(276, 'Valdis Saulespurēns'),\n",
       " (277, 'Jumprava'),\n",
       " (278, 'Jumprava'),\n",
       " (281, 'Ieva Zarina'),\n",
       " (282, 'Brainstorm')]"
      ]
     },
     "execution_count": 42,
     "metadata": {},
     "output_type": "execute_result"
    }
   ],
   "source": [
    "artists_list = read_artists(conn)\n",
    "artists_list[-5:]"
   ]
  }
 ],
 "metadata": {
  "kernelspec": {
   "display_name": "Python 3.10.7 ('venv': venv)",
   "language": "python",
   "name": "python3"
  },
  "language_info": {
   "codemirror_mode": {
    "name": "ipython",
    "version": 3
   },
   "file_extension": ".py",
   "mimetype": "text/x-python",
   "name": "python",
   "nbconvert_exporter": "python",
   "pygments_lexer": "ipython3",
   "version": "3.10.7"
  },
  "orig_nbformat": 4,
  "vscode": {
   "interpreter": {
    "hash": "1453f595efc6e74422f067953fb1bbbba0d4d00b5ca5101b5037ff3248f22401"
   }
  }
 },
 "nbformat": 4,
 "nbformat_minor": 2
}
