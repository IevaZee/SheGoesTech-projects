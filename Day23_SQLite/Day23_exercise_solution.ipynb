{
 "cells": [
  {
   "cell_type": "code",
   "execution_count": 17,
   "metadata": {},
   "outputs": [],
   "source": [
    "import sqlite3\n",
    "import pandas as pd"
   ]
  },
  {
   "cell_type": "code",
   "execution_count": 18,
   "metadata": {},
   "outputs": [],
   "source": [
    "def create_connection(dbpath):\n",
    "    con = sqlite3.connect(dbpath)\n",
    "    df = pd.read_sql_query(\"select sqlite_version()\", con)\n",
    "    print(df)\n",
    "    return con"
   ]
  },
  {
   "cell_type": "code",
   "execution_count": 19,
   "metadata": {},
   "outputs": [
    {
     "name": "stdout",
     "output_type": "stream",
     "text": [
      "  sqlite_version()\n",
      "0           3.37.2\n"
     ]
    }
   ],
   "source": [
    "my_con = create_connection(\"chinook.db\")"
   ]
  },
  {
   "cell_type": "code",
   "execution_count": 20,
   "metadata": {},
   "outputs": [
    {
     "ename": "SyntaxError",
     "evalue": "incomplete input (773861599.py, line 5)",
     "output_type": "error",
     "traceback": [
      "\u001b[1;36m  Cell \u001b[1;32mIn [20], line 5\u001b[1;36m\u001b[0m\n\u001b[1;33m    # do not have to return anything but can use try: inside this function\u001b[0m\n\u001b[1;37m                                                                          ^\u001b[0m\n\u001b[1;31mSyntaxError\u001b[0m\u001b[1;31m:\u001b[0m incomplete input\n"
     ]
    }
   ],
   "source": [
    "def create_artist(conn, artist_name):\n",
    "    \n",
    "# maybe use cur.execute ?\n",
    "\n",
    "# use parametrized query !\n",
    "# do not have to return anything but can use try: inside this function"
   ]
  },
  {
   "cell_type": "code",
   "execution_count": null,
   "metadata": {},
   "outputs": [],
   "source": [
    "def read_artists(conn):  # can add some extra parameters to limit\n",
    "\n",
    "\n",
    "# return artists  # can return a list of tuples, or you can create a list of artist objects if you want"
   ]
  },
  {
   "cell_type": "code",
   "execution_count": null,
   "metadata": {},
   "outputs": [],
   "source": [
    "def update_artist(id, new_name):\n",
    "    "
   ]
  },
  {
   "cell_type": "code",
   "execution_count": null,
   "metadata": {},
   "outputs": [],
   "source": [
    "def delete_artist(id=None, name=\"\"):\n",
    "    \n",
    "\n",
    "# provide deletion by id AND/OR name"
   ]
  }
 ],
 "metadata": {
  "kernelspec": {
   "display_name": "Python 3.10.7 ('venv': venv)",
   "language": "python",
   "name": "python3"
  },
  "language_info": {
   "codemirror_mode": {
    "name": "ipython",
    "version": 3
   },
   "file_extension": ".py",
   "mimetype": "text/x-python",
   "name": "python",
   "nbconvert_exporter": "python",
   "pygments_lexer": "ipython3",
   "version": "3.10.7"
  },
  "orig_nbformat": 4,
  "vscode": {
   "interpreter": {
    "hash": "1453f595efc6e74422f067953fb1bbbba0d4d00b5ca5101b5037ff3248f22401"
   }
  }
 },
 "nbformat": 4,
 "nbformat_minor": 2
}
