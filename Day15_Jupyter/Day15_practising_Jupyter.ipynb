{
 "cells": [
  {
   "cell_type": "code",
   "execution_count": 8,
   "metadata": {},
   "outputs": [
    {
     "name": "stdout",
     "output_type": "stream",
     "text": [
      "Testing Jupyter notebooks.\n"
     ]
    }
   ],
   "source": [
    "print(\"Testing Jupyter notebooks.\")"
   ]
  },
  {
   "cell_type": "code",
   "execution_count": 9,
   "metadata": {},
   "outputs": [
    {
     "name": "stdout",
     "output_type": "stream",
     "text": [
      "This is a new code cell...\n"
     ]
    }
   ],
   "source": [
    "print(\"This is a new code cell...\")"
   ]
  },
  {
   "cell_type": "code",
   "execution_count": 10,
   "metadata": {},
   "outputs": [
    {
     "name": "stdout",
     "output_type": "stream",
     "text": [
      "My name is Ieva and my cat is Lote.\n"
     ]
    }
   ],
   "source": [
    "my_name = \"Ieva\"\n",
    "my_cat = \"Lote\"\n",
    "print(f\"My name is {my_name} and my cat is {my_cat}.\")"
   ]
  },
  {
   "cell_type": "code",
   "execution_count": 11,
   "metadata": {},
   "outputs": [
    {
     "data": {
      "text/plain": [
       "('Lote', 'Ieva')"
      ]
     },
     "execution_count": 11,
     "metadata": {},
     "output_type": "execute_result"
    }
   ],
   "source": [
    "my_cat, my_name"
   ]
  },
  {
   "cell_type": "markdown",
   "metadata": {},
   "source": [
    "# The big heading\n",
    "\n",
    "## Smaller heading\n",
    "\n",
    "### The smallest title\n",
    "\n",
    "**This is a bold text**\n",
    "\n",
    "*And this is an italic text*\n",
    "\n",
    "Creating a list:\n",
    "* Apple\n",
    "* Pear\n",
    "* Banana\n",
    "\n",
    "Another list:\n",
    "1. Yellow\n",
    "2. Red\n",
    "3. Blue\n",
    "\n",
    "#### I can add links to web sites\n",
    "[Guide to Matplotlib](https://matplotlib.org/)\n",
    "\n",
    "I can also add a picture\n",
    "\n",
    "![Cat picture](https://upload.wikimedia.org/wikipedia/commons/thumb/0/0c/American_Shorthair.jpg/800px-American_Shorthair.jpg)"
   ]
  }
 ],
 "metadata": {
  "kernelspec": {
   "display_name": "Python 3.10.7 ('venv': venv)",
   "language": "python",
   "name": "python3"
  },
  "language_info": {
   "codemirror_mode": {
    "name": "ipython",
    "version": 3
   },
   "file_extension": ".py",
   "mimetype": "text/x-python",
   "name": "python",
   "nbconvert_exporter": "python",
   "pygments_lexer": "ipython3",
   "version": "3.10.7"
  },
  "orig_nbformat": 4,
  "vscode": {
   "interpreter": {
    "hash": "1453f595efc6e74422f067953fb1bbbba0d4d00b5ca5101b5037ff3248f22401"
   }
  }
 },
 "nbformat": 4,
 "nbformat_minor": 2
}
